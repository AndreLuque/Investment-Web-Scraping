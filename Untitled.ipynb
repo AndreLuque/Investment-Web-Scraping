{
 "cells": [
  {
   "cell_type": "code",
   "execution_count": 17,
   "id": "8275867e",
   "metadata": {},
   "outputs": [],
   "source": [
    "import pandas as pd\n",
    "import numpy as np"
   ]
  },
  {
   "cell_type": "code",
   "execution_count": 74,
   "id": "abc4efe0",
   "metadata": {},
   "outputs": [],
   "source": [
    "df_ST = pd.read_csv('amundi-msci-wrld-ae-c.csv', sep=\";\")\n",
    "df_CB = pd.read_csv('ishares-global-corporate-bond-$.csv', sep=\";\")\n",
    "df_PB = pd.read_csv('db-x-trackers-ii-global-sovereign-5.csv', sep=\";\")\n",
    "df_GO = pd.read_csv('spdr-gold-trust.csv', sep=\";\")\n",
    "df_CA = pd.read_csv('usdollar.csv', sep=\";\")"
   ]
  },
  {
   "cell_type": "code",
   "execution_count": 140,
   "id": "f5e3f11c",
   "metadata": {},
   "outputs": [],
   "source": [
    "df = {}\n",
    "df.update({\"ST\": pd.read_csv('amundi-msci-wrld-ae-c.csv', sep=\";\")})\n",
    "df.update({\"CB\": pd.read_csv('ishares-global-corporate-bond-$.csv', sep=\";\")})\n",
    "df.update({\"PB\": pd.read_csv('db-x-trackers-ii-global-sovereign-5.csv', sep=\";\")})\n",
    "df.update({\"GO\": pd.read_csv('spdr-gold-trust.csv', sep=\";\")})\n",
    "df.update({\"CA\": pd.read_csv('usdollar.csv', sep=\";\")})"
   ]
  },
  {
   "cell_type": "code",
   "execution_count": 75,
   "id": "efd19e35",
   "metadata": {},
   "outputs": [],
   "source": [
    "def combinations_with_replacement(iterable, r):\n",
    "    # combinations_with_replacement('ABC', 2) --> AA AB AC BB BC CC\n",
    "    # Sacado de internet\n",
    "    pool = tuple(iterable)\n",
    "    n = len(pool)\n",
    "    if not n and r:\n",
    "        return\n",
    "    indices = [0] * r\n",
    "    yield tuple(pool[i] for i in indices)\n",
    "    while True:\n",
    "        for i in reversed(range(r)):\n",
    "            if indices[i] != n - 1:\n",
    "                break\n",
    "        else:\n",
    "            return\n",
    "        indices[i:] = [indices[i] + 1] * (r - i)\n",
    "        yield tuple(pool[i] for i in indices)"
   ]
  },
  {
   "cell_type": "code",
   "execution_count": 76,
   "id": "f1d8d56d",
   "metadata": {},
   "outputs": [],
   "source": [
    "partes = 5\n",
    "it = combinations_with_replacement(['ST','CB','PB','GO','CA'], partes)\n",
    "lista = []\n",
    "for j in it:\n",
    "    dicionario = {'ST':0, 'CB':0, 'PB':0,'GO':0, 'CA':0}\n",
    "    for i in j:\n",
    "        dicionario[i] = int(dicionario[i]+(100/partes))\n",
    "    lista += [dicionario]"
   ]
  },
  {
   "cell_type": "code",
   "execution_count": 125,
   "id": "554f49fc",
   "metadata": {},
   "outputs": [
    {
     "data": {
      "text/plain": [
       "ST    80\n",
       "CB    20\n",
       "PB     0\n",
       "GO     0\n",
       "CA     0\n",
       "Name: 1, dtype: int64"
      ]
     },
     "execution_count": 125,
     "metadata": {},
     "output_type": "execute_result"
    }
   ],
   "source": [
    "df_carteras = pd.DataFrame(lista)\n",
    "df_carteras.loc[1,:]"
   ]
  },
  {
   "cell_type": "code",
   "execution_count": 178,
   "id": "e9a9dc6d",
   "metadata": {},
   "outputs": [],
   "source": [
    "def calcularGanacia(carteras):\n",
    "    ganaciaIndice = []\n",
    "    listaGanacias = []\n",
    "    for i in df:\n",
    "        precioInicio = df[i].loc[len(df[i])-1,\"Price\"]\n",
    "        precioFinal = df[i].loc[0,\"Price\"]\n",
    "        ganaciaIndice += [((precioInicio-precioFinal)/(precioInicio))]\n",
    "    for cartera in carteras:\n",
    "        gancia = 0\n",
    "        for i in range(len(cartera):\n",
    "            gancia += cartera[i]*ganaciaIndice[i]\n",
    "        listaGanacias = [gancia]\n",
    "    return ganacia"
   ]
  },
  {
   "cell_type": "code",
   "execution_count": 179,
   "id": "dc8eb246",
   "metadata": {},
   "outputs": [
    {
     "name": "stdout",
     "output_type": "stream",
     "text": [
      "194.59\n",
      "204.58\n",
      "77.58\n",
      "80.62\n",
      "253.28\n",
      "253.84\n",
      "143.95\n",
      "178.36\n",
      "96.39\n",
      "89.94\n"
     ]
    },
    {
     "data": {
      "text/plain": [
       "-4.890804114138707"
      ]
     },
     "execution_count": 179,
     "metadata": {},
     "output_type": "execute_result"
    }
   ],
   "source": [
    "calcularGanacia(df_carteras.loc[1,:])"
   ]
  },
  {
   "cell_type": "code",
   "execution_count": 182,
   "id": "d08c1b17",
   "metadata": {},
   "outputs": [
    {
     "data": {
      "text/plain": [
       "ST      0\n",
       "CB      0\n",
       "PB      0\n",
       "GO      0\n",
       "CA    100\n",
       "Name: 125, dtype: int64"
      ]
     },
     "execution_count": 182,
     "metadata": {},
     "output_type": "execute_result"
    }
   ],
   "source": [
    "df_carteras.iloc[-1,:]"
   ]
  },
  {
   "cell_type": "code",
   "execution_count": 149,
   "id": "e315ec86",
   "metadata": {},
   "outputs": [
    {
     "data": {
      "text/plain": [
       "247"
      ]
     },
     "execution_count": 149,
     "metadata": {},
     "output_type": "execute_result"
    }
   ],
   "source": [
    "len(df[\"ST\"])"
   ]
  },
  {
   "cell_type": "code",
   "execution_count": 96,
   "id": "81d5bebf",
   "metadata": {},
   "outputs": [
    {
     "data": {
      "text/html": [
       "<div>\n",
       "<style scoped>\n",
       "    .dataframe tbody tr th:only-of-type {\n",
       "        vertical-align: middle;\n",
       "    }\n",
       "\n",
       "    .dataframe tbody tr th {\n",
       "        vertical-align: top;\n",
       "    }\n",
       "\n",
       "    .dataframe thead th {\n",
       "        text-align: right;\n",
       "    }\n",
       "</style>\n",
       "<table border=\"1\" class=\"dataframe\">\n",
       "  <thead>\n",
       "    <tr style=\"text-align: right;\">\n",
       "      <th></th>\n",
       "      <th>Date</th>\n",
       "      <th>Price</th>\n",
       "      <th>Vol</th>\n",
       "      <th>%Change</th>\n",
       "    </tr>\n",
       "  </thead>\n",
       "  <tbody>\n",
       "    <tr>\n",
       "      <th>0</th>\n",
       "      <td>Dec 31, 2020</td>\n",
       "      <td>204.58</td>\n",
       "      <td>-</td>\n",
       "      <td>0.62%</td>\n",
       "    </tr>\n",
       "    <tr>\n",
       "      <th>1</th>\n",
       "      <td>Dec 30, 2020</td>\n",
       "      <td>203.32</td>\n",
       "      <td>-</td>\n",
       "      <td>-0.33%</td>\n",
       "    </tr>\n",
       "    <tr>\n",
       "      <th>2</th>\n",
       "      <td>Dec 29, 2020</td>\n",
       "      <td>204.00</td>\n",
       "      <td>-</td>\n",
       "      <td>-0.01%</td>\n",
       "    </tr>\n",
       "    <tr>\n",
       "      <th>3</th>\n",
       "      <td>Dec 28, 2020</td>\n",
       "      <td>204.02</td>\n",
       "      <td>-</td>\n",
       "      <td>0.41%</td>\n",
       "    </tr>\n",
       "    <tr>\n",
       "      <th>4</th>\n",
       "      <td>Dec 24, 2020</td>\n",
       "      <td>203.19</td>\n",
       "      <td>-</td>\n",
       "      <td>0.32%</td>\n",
       "    </tr>\n",
       "    <tr>\n",
       "      <th>...</th>\n",
       "      <td>...</td>\n",
       "      <td>...</td>\n",
       "      <td>...</td>\n",
       "      <td>...</td>\n",
       "    </tr>\n",
       "    <tr>\n",
       "      <th>242</th>\n",
       "      <td>Jan 08, 2020</td>\n",
       "      <td>195.26</td>\n",
       "      <td>-</td>\n",
       "      <td>0.49%</td>\n",
       "    </tr>\n",
       "    <tr>\n",
       "      <th>243</th>\n",
       "      <td>Jan 07, 2020</td>\n",
       "      <td>194.30</td>\n",
       "      <td>-</td>\n",
       "      <td>0.25%</td>\n",
       "    </tr>\n",
       "    <tr>\n",
       "      <th>244</th>\n",
       "      <td>Jan 06, 2020</td>\n",
       "      <td>193.81</td>\n",
       "      <td>-</td>\n",
       "      <td>-0.16%</td>\n",
       "    </tr>\n",
       "    <tr>\n",
       "      <th>245</th>\n",
       "      <td>Jan 03, 2020</td>\n",
       "      <td>194.12</td>\n",
       "      <td>-</td>\n",
       "      <td>-0.24%</td>\n",
       "    </tr>\n",
       "    <tr>\n",
       "      <th>246</th>\n",
       "      <td>Jan 02, 2020</td>\n",
       "      <td>194.59</td>\n",
       "      <td>-</td>\n",
       "      <td>0.97%</td>\n",
       "    </tr>\n",
       "  </tbody>\n",
       "</table>\n",
       "<p>247 rows × 4 columns</p>\n",
       "</div>"
      ],
      "text/plain": [
       "             Date   Price Vol %Change\n",
       "0    Dec 31, 2020  204.58   -   0.62%\n",
       "1    Dec 30, 2020  203.32   -  -0.33%\n",
       "2    Dec 29, 2020  204.00   -  -0.01%\n",
       "3    Dec 28, 2020  204.02   -   0.41%\n",
       "4    Dec 24, 2020  203.19   -   0.32%\n",
       "..            ...     ...  ..     ...\n",
       "242  Jan 08, 2020  195.26   -   0.49%\n",
       "243  Jan 07, 2020  194.30   -   0.25%\n",
       "244  Jan 06, 2020  193.81   -  -0.16%\n",
       "245  Jan 03, 2020  194.12   -  -0.24%\n",
       "246  Jan 02, 2020  194.59   -   0.97%\n",
       "\n",
       "[247 rows x 4 columns]"
      ]
     },
     "execution_count": 96,
     "metadata": {},
     "output_type": "execute_result"
    }
   ],
   "source": [
    "df[\"ST\"]"
   ]
  },
  {
   "cell_type": "code",
   "execution_count": 109,
   "id": "141f1199",
   "metadata": {},
   "outputs": [
    {
     "data": {
      "text/plain": [
       "ST    80\n",
       "CB    20\n",
       "PB     0\n",
       "GO     0\n",
       "CA     0\n",
       "Name: 1, dtype: int64"
      ]
     },
     "execution_count": 109,
     "metadata": {},
     "output_type": "execute_result"
    }
   ],
   "source": [
    "df_carteras.iloc[1,:]"
   ]
  },
  {
   "cell_type": "code",
   "execution_count": 106,
   "id": "ed33ed37",
   "metadata": {},
   "outputs": [
    {
     "data": {
      "text/plain": [
       "{'ST':              Date   Price Vol %Change\n",
       " 0    Dec 31, 2020  204.58   -   0.62%\n",
       " 1    Dec 30, 2020  203.32   -  -0.33%\n",
       " 2    Dec 29, 2020  204.00   -  -0.01%\n",
       " 3    Dec 28, 2020  204.02   -   0.41%\n",
       " 4    Dec 24, 2020  203.19   -   0.32%\n",
       " ..            ...     ...  ..     ...\n",
       " 242  Jan 08, 2020  195.26   -   0.49%\n",
       " 243  Jan 07, 2020  194.30   -   0.25%\n",
       " 244  Jan 06, 2020  193.81   -  -0.16%\n",
       " 245  Jan 03, 2020  194.12   -  -0.24%\n",
       " 246  Jan 02, 2020  194.59   -   0.97%\n",
       " \n",
       " [247 rows x 4 columns],\n",
       " 'CB':              Date  Price    Vol %Change\n",
       " 0    Dec 31, 2020  80.62  0.92K   0.25%\n",
       " 1    Dec 30, 2020  80.42  0.50K  -0.54%\n",
       " 2    Dec 29, 2020  80.86  4.72K   0.93%\n",
       " 3    Dec 24, 2020  80.11  0.50K  -0.37%\n",
       " 4    Dec 23, 2020  80.40  3.89K  -1.20%\n",
       " ..            ...    ...    ...     ...\n",
       " 249  Jan 08, 2020  77.73  1.29K   0.00%\n",
       " 250  Jan 07, 2020  77.73  0.50K   0.30%\n",
       " 251  Jan 06, 2020  77.50  0.83K  -0.68%\n",
       " 252  Jan 03, 2020  78.03  0.88K   0.58%\n",
       " 253  Jan 02, 2020  77.58  9.20K   0.28%\n",
       " \n",
       " [254 rows x 4 columns],\n",
       " 'PB':              Date   Price    Vol %Change\n",
       " 0    Dec 30, 2020  253.84  1.98K   0.01%\n",
       " 1    Dec 29, 2020  253.82  1.69K   0.11%\n",
       " 2    Dec 28, 2020  253.55  1.49K  -0.25%\n",
       " 3    Dec 23, 2020  254.18  3.36K  -0.37%\n",
       " 4    Dec 22, 2020  255.13  4.34K   0.28%\n",
       " ..            ...     ...    ...     ...\n",
       " 250  Jan 08, 2020  254.82  1.13K   0.18%\n",
       " 251  Jan 07, 2020  254.36  0.91K   0.08%\n",
       " 252  Jan 06, 2020  254.16  0.05K  -0.38%\n",
       " 253  Jan 03, 2020  255.12  3.72K   0.73%\n",
       " 254  Jan 02, 2020  253.28  0.47K   0.29%\n",
       " \n",
       " [255 rows x 4 columns],\n",
       " 'GO':              Date   Price     Vol %Change\n",
       " 0    Dec 31, 2020  178.36   7.54M   0.37%\n",
       " 1    Dec 30, 2020  177.70   5.91M   0.77%\n",
       " 2    Dec 29, 2020  176.35   5.98M   0.36%\n",
       " 3    Dec 28, 2020  175.71   7.78M  -0.36%\n",
       " 4    Dec 24, 2020  176.35   3.70M   0.40%\n",
       " ..            ...     ...     ...     ...\n",
       " 269  Jan 08, 2020  146.86  22.28M  -0.75%\n",
       " 270  Jan 07, 2020  147.97   8.40M   0.39%\n",
       " 271  Jan 06, 2020  147.39  14.41M   1.05%\n",
       " 272  Jan 03, 2020  145.86  12.29M   1.33%\n",
       " 273  Jan 02, 2020  143.95   7.74M   0.73%\n",
       " \n",
       " [274 rows x 4 columns],\n",
       " 'CA':              Date  Price Vol %Change\n",
       " 0    Dec 31, 2020  89.94   -   0.29%\n",
       " 1    Dec 30, 2020  89.68   -  -0.34%\n",
       " 2    Dec 29, 2020  89.99   -  -0.39%\n",
       " 3    Dec 28, 2020  90.34   -   0.02%\n",
       " 4    Dec 25, 2020  90.32   -   0.00%\n",
       " ..            ...    ...  ..     ...\n",
       " 257  Jan 07, 2020  97.00   -   0.34%\n",
       " 258  Jan 06, 2020  96.67   -  -0.18%\n",
       " 259  Jan 03, 2020  96.84   -  -0.01%\n",
       " 260  Jan 02, 2020  96.85   -   0.48%\n",
       " 261  Jan 01, 2020  96.39   -   0.00%\n",
       " \n",
       " [262 rows x 4 columns]}"
      ]
     },
     "execution_count": 106,
     "metadata": {},
     "output_type": "execute_result"
    }
   ],
   "source": [
    "df"
   ]
  },
  {
   "cell_type": "code",
   "execution_count": 131,
   "id": "85913ecf",
   "metadata": {},
   "outputs": [
    {
     "data": {
      "text/plain": [
       "5"
      ]
     },
     "execution_count": 131,
     "metadata": {},
     "output_type": "execute_result"
    }
   ],
   "source": [
    "len(df)"
   ]
  },
  {
   "cell_type": "code",
   "execution_count": null,
   "id": "be658211",
   "metadata": {},
   "outputs": [],
   "source": []
  }
 ],
 "metadata": {
  "kernelspec": {
   "display_name": "Python 3",
   "language": "python",
   "name": "python3"
  },
  "language_info": {
   "codemirror_mode": {
    "name": "ipython",
    "version": 3
   },
   "file_extension": ".py",
   "mimetype": "text/x-python",
   "name": "python",
   "nbconvert_exporter": "python",
   "pygments_lexer": "ipython3",
   "version": "3.8.8"
  }
 },
 "nbformat": 4,
 "nbformat_minor": 5
}
