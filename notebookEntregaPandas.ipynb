{
 "cells": [
  {
   "cell_type": "code",
   "execution_count": 148,
   "id": "8275867e",
   "metadata": {},
   "outputs": [],
   "source": [
    "import pandas as pd\n",
    "import numpy as np\n",
    "import time\n",
    "from typing import List, Dict, TypeVar\n",
    "import itertools as it"
   ]
  },
  {
   "cell_type": "code",
   "execution_count": 105,
   "id": "f5e3f11c",
   "metadata": {},
   "outputs": [],
   "source": [
    "# leer los csv y meterlos en un diccionario (es el que estoy usando)\n",
    "datasets_dic = {}\n",
    "datasets_dic.update({\"ST\": pd.read_csv('amundi-msci-wrld-ae-c.csv', sep=\";\")})\n",
    "datasets_dic.update({\"CB\": pd.read_csv('ishares-global-corporate-bond-$.csv', sep=\";\")})\n",
    "datasets_dic.update({\"PB\": pd.read_csv('db-x-trackers-ii-global-sovereign-5.csv', sep=\";\")})\n",
    "datasets_dic.update({\"GO\": pd.read_csv('spdr-gold-trust.csv', sep=\";\")})\n",
    "datasets_dic.update({\"CA\": pd.read_csv('usdollar.csv', sep=\";\")})"
   ]
  },
  {
   "cell_type": "code",
   "execution_count": 69,
   "id": "efd19e35",
   "metadata": {},
   "outputs": [],
   "source": [
    "def combinations_with_replacement(iterable, r):\n",
    "    # combinations_with_replacement('ABC', 2) --> AA AB AC BB BC CC\n",
    "    # Sacado de internet\n",
    "    pool = tuple(iterable)\n",
    "    n = len(pool)\n",
    "    if not n and r:\n",
    "        return\n",
    "    indices = [0] * r\n",
    "    yield tuple(pool[i] for i in indices)\n",
    "    while True:\n",
    "        for i in reversed(range(r)):\n",
    "            if indices[i] != n - 1:\n",
    "                break\n",
    "        else:\n",
    "            return\n",
    "        indices[i:] = [indices[i] + 1] * (r - i)\n",
    "        yield tuple(pool[i] for i in indices)"
   ]
  },
  {
   "cell_type": "markdown",
   "id": "6bf41859",
   "metadata": {},
   "source": [
    "Con estos comandos creamos las carteras y las metemos en diccionario listo para pasarlo a DataFrame (no estoy seguro de  gestinar las carteras con un dataFrame)"
   ]
  },
  {
   "cell_type": "code",
   "execution_count": 186,
   "id": "f1d8d56d",
   "metadata": {},
   "outputs": [],
   "source": [
    "def crearCarteras(sumaConponentesCartera: int, partes : int) -> List[Dict]:\n",
    "    # sumaConponentesCartera es la sumada se las cateras\n",
    "    # sumaConponentesCartera/partes indica el salto minimo entre carteras\n",
    "    it = combinations_with_replacement(['ST','CB','PB','GO','CA'], partes)\n",
    "    lista = []\n",
    "    for j in it:\n",
    "        dicionario = {'ST':0, 'CB':0, 'PB':0,'GO':0, 'CA':0}\n",
    "        for i in j:\n",
    "            dicionario[i] = int(dicionario[i]+(sumaConponentesCartera/partes))\n",
    "        lista += [dicionario]\n",
    "    return lista"
   ]
  },
  {
   "cell_type": "code",
   "execution_count": 142,
   "id": "e9a9dc6d",
   "metadata": {},
   "outputs": [],
   "source": [
    "def retabilidaddic(df):\n",
    "    ganaciaIndice = {}\n",
    "    for i in df:\n",
    "        precioInicio = df[i].loc[len(df[i])-1,\"Price\"]\n",
    "        precioFinal = df[i].loc[0,\"Price\"]\n",
    "        ganaciaIndice.update({i:((precioFinal-precioInicio)/(precioInicio))})\n",
    "    return ganaciaIndice\n",
    "\n",
    "def calcularGanacia(carteras, df):\n",
    "    # este metodo recive una cartera o lista de estas y calcula el porcentaje de ganacias\n",
    "    ratioCien = 100/sum(df_carteras.iloc[1,:]) # esta variable sirve para compesar en el caso del que el sumatorio de los componentes de la carteran no sumen 100\n",
    "    ganaciaIndice = retabilidaddic(df)\n",
    "    nColumnas = len(carteras.loc[1,:])\n",
    "    listaGanacias = []\n",
    "    for fila in range(len(carteras.index)):\n",
    "        ganancia = 0\n",
    "        for columna in range(nColumnas):\n",
    "            ganancia += carteras.iloc[fila,columna]*ganaciaIndice[carteras.columns[columna]]*ratioCien\n",
    "        listaGanacias += [ganancia]\n",
    "    return listaGanacias"
   ]
  },
  {
   "cell_type": "code",
   "execution_count": 147,
   "id": "80a38282",
   "metadata": {},
   "outputs": [],
   "source": [
    "def rendimiento(carteras: pd.DataFrame, datos: Dict[str, pd.DataFrame]) -> \\\n",
    "        List[np.float64]:\n",
    "    \"\"\"\n",
    "       Esta función recibe un dataframe de carteras y un diccionario con los datos\n",
    "        de cada activo y calcula el rendimiento para cada cartera\n",
    "      \"\"\"\n",
    "    n_columnas = len(carteras.loc[1, :])\n",
    "    lista_rentabilidades = []\n",
    "    # Recorremos todas las carteras (1 cartera por fila)\n",
    "    for fila in range(len(carteras.index)):\n",
    "        importe_de_compra = 0\n",
    "        valor_actual = 0\n",
    "        # Dentro de cada cartera recorremos los activos\n",
    "        for columna in range(n_columnas):\n",
    "            \"\"\"\n",
    "            · Para cada activo sacamos el precio cuando se invirtió y el precio \n",
    "            cuando se retiró a inversión (precio_inicio, precio_final)\n",
    "            · En importe_de_compra se va acumulando la inversón de cada activo\n",
    "            en la cartera\n",
    "            · En el valor_actual se acumula el dinero que se consigue tras retirar\n",
    "            la inversión\n",
    "            \"\"\"\n",
    "            activo = carteras.columns[columna]\n",
    "            precio_inicio = datos[activo].loc[len(datos[activo]) - 1, \"Price\"]\n",
    "            precio_final = datos[activo].loc[0, \"Price\"]\n",
    "            importe_de_compra += carteras.iloc[fila, columna]\n",
    "            valor_actual += (carteras.iloc[fila, columna] / precio_inicio) * precio_final\n",
    "\n",
    "        rentabilidad = ((valor_actual - importe_de_compra) / importe_de_compra) * 100\n",
    "        lista_rentabilidades += [round(rentabilidad, 4)]\n",
    "\n",
    "    return lista_rentabilidades"
   ]
  },
  {
   "cell_type": "code",
   "execution_count": 204,
   "id": "cfd4760c",
   "metadata": {},
   "outputs": [],
   "source": [
    "def retabilidadPorPartes(df):\n",
    "    ganaciaIndice = {}\n",
    "    for i in df:\n",
    "        precioInicio = df[i].loc[len(df[i])-1,\"Price\"]\n",
    "        precioFinal = df[i].loc[0,\"Price\"]\n",
    "        ganaciaIndice.update({i:(1+((precioFinal-precioInicio)/(precioInicio)))})\n",
    "    return ganaciaIndice\n",
    "\n",
    "def rendimiento2(carteras: pd.DataFrame, datos: Dict[str, float]) -> \\\n",
    "        List[np.float64]:\n",
    "    \"\"\"\n",
    "       Esta función recibe un dataframe de carteras y un diccionario con la\n",
    "       rentavilidad que tiene cada componente de las carteras\n",
    "    \"\"\"\n",
    "    n_columnas = len(carteras.loc[1, :])\n",
    "    lista_rentabilidades = []\n",
    "    # Recorremos todas las carteras (1 cartera por fila)\n",
    "    for fila in range(len(carteras.index)):\n",
    "        importe_de_compra = 0\n",
    "        valor_actual = 0\n",
    "        # Dentro de cada cartera recorremos los activos\n",
    "        for columna in range(n_columnas):\n",
    "            \"\"\"\n",
    "            · Para cada activo sacamos la retavilidad de datos y lo mutiplicamos\n",
    "            por el precio inicial\n",
    "            · En importe_de_compra se va acumulando la inversón de cada activo\n",
    "            en la cartera\n",
    "            · En el valor_actual se acumula el dinero que se consigue tras retirar\n",
    "            la inversión\n",
    "            \"\"\"\n",
    "            activo = carteras.columns[columna]\n",
    "            importe_de_compra += carteras.iloc[fila, columna]\n",
    "            valor_actual += carteras.iloc[fila, columna] * datos[carteras.columns[columna]]\n",
    "        \n",
    "        rentabilidad = ((valor_actual - importe_de_compra) / importe_de_compra) * 100\n",
    "        lista_rentabilidades += [round(rentabilidad, 4)]\n",
    "\n",
    "    return lista_rentabilidades"
   ]
  },
  {
   "cell_type": "code",
   "execution_count": 205,
   "id": "20fc6862",
   "metadata": {},
   "outputs": [
    {
     "name": "stdout",
     "output_type": "stream",
     "text": [
      "0.03500056266784668\n",
      "0.08277297019958496\n",
      "0.047002553939819336\n"
     ]
    }
   ],
   "source": [
    "partes = 5\n",
    "sumaCarteras = 100\n",
    "# estan ordenados por orden de creacion que coincide con el orden de arriva abajo en este notebook\n",
    "\n",
    "# creamos el dataFrame con las carteras\n",
    "df_carteras = pd.DataFrame(crearCarteras(sumaCarteras, partes))\n",
    "df_carteras\n",
    "\n",
    "# metodo 1\n",
    "inicio = time.time()\n",
    "df_carteras[\"return\"] = calcularGanacia(df_carteras, df)\n",
    "final = time.time()\n",
    "print(final - inicio)\n",
    "\n",
    "# creamos el dataFrame con las carteras\n",
    "df_carteras = pd.DataFrame(crearCarteras(sumaCarteras, partes))\n",
    "df_carteras\n",
    "\n",
    "# metodo 2\n",
    "inicio = time.time()\n",
    "df_carteras[\"RETURN\"] = rendimiento(df_carteras, datasets_dic)\n",
    "final = time.time()\n",
    "print(final - inicio)\n",
    "\n",
    "# creamos el dataFrame con las carteras\n",
    "df_carteras = pd.DataFrame(crearCarteras(sumaCarteras, partes))\n",
    "df_carteras\n",
    "\n",
    "# metodo 3\n",
    "inicio = time.time()\n",
    "df_carteras[\"RETURN\"] = rendimiento2(df_carteras, retabilidadPorPartes(datasets_dic))\n",
    "final = time.time()\n",
    "print(final - inicio)"
   ]
  },
  {
   "cell_type": "code",
   "execution_count": null,
   "id": "1a79620e",
   "metadata": {},
   "outputs": [],
   "source": []
  }
 ],
 "metadata": {
  "kernelspec": {
   "display_name": "Python 3",
   "language": "python",
   "name": "python3"
  },
  "language_info": {
   "codemirror_mode": {
    "name": "ipython",
    "version": 3
   },
   "file_extension": ".py",
   "mimetype": "text/x-python",
   "name": "python",
   "nbconvert_exporter": "python",
   "pygments_lexer": "ipython3",
   "version": "3.8.8"
  }
 },
 "nbformat": 4,
 "nbformat_minor": 5
}
