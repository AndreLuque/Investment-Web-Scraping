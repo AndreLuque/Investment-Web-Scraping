{
 "cells": [
  {
   "cell_type": "code",
   "execution_count": 2,
   "id": "8275867e",
   "metadata": {},
   "outputs": [],
   "source": [
    "import pandas as pd\n",
    "import numpy as np"
   ]
  },
  {
   "cell_type": "code",
   "execution_count": 3,
   "id": "abc4efe0",
   "metadata": {},
   "outputs": [],
   "source": [
    "# manera 1:  leer los csv\n",
    "df_ST = pd.read_csv('amundi-msci-wrld-ae-c.csv', sep=\";\")\n",
    "df_CB = pd.read_csv('ishares-global-corporate-bond-$.csv', sep=\";\")\n",
    "df_PB = pd.read_csv('db-x-trackers-ii-global-sovereign-5.csv', sep=\";\")\n",
    "df_GO = pd.read_csv('spdr-gold-trust.csv', sep=\";\")\n",
    "df_CA = pd.read_csv('usdollar.csv', sep=\";\")"
   ]
  },
  {
   "cell_type": "code",
   "execution_count": 4,
   "id": "f5e3f11c",
   "metadata": {},
   "outputs": [],
   "source": [
    "# manera 2: leer los csv y meterlos en un diccionario\n",
    "df = {}\n",
    "df.update({\"ST\": pd.read_csv('amundi-msci-wrld-ae-c.csv', sep=\";\")})\n",
    "df.update({\"CB\": pd.read_csv('ishares-global-corporate-bond-$.csv', sep=\";\")})\n",
    "df.update({\"PB\": pd.read_csv('db-x-trackers-ii-global-sovereign-5.csv', sep=\";\")})\n",
    "df.update({\"GO\": pd.read_csv('spdr-gold-trust.csv', sep=\";\")})\n",
    "df.update({\"CA\": pd.read_csv('usdollar.csv', sep=\";\")})"
   ]
  },
  {
   "cell_type": "code",
   "execution_count": 13,
   "id": "efd19e35",
   "metadata": {},
   "outputs": [],
   "source": [
    "def combinations_with_replacement(iterable, r):\n",
    "    # combinations_with_replacement('ABC', 2) --> AA AB AC BB BC CC\n",
    "    # Sacado de internet\n",
    "    pool = tuple(iterable)\n",
    "    n = len(pool)\n",
    "    if not n and r:\n",
    "        return\n",
    "    indices = [0] * r\n",
    "    yield tuple(pool[i] for i in indices)\n",
    "    while True:\n",
    "        for i in reversed(range(r)):\n",
    "            if indices[i] != n - 1:\n",
    "                break\n",
    "        else:\n",
    "            return\n",
    "        indices[i:] = [indices[i] + 1] * (r - i)\n",
    "        yield tuple(pool[i] for i in indices)"
   ]
  },
  {
   "cell_type": "markdown",
   "id": "6bf41859",
   "metadata": {},
   "source": [
    "Con estos comandos creamos las carteras y las metemos en diccionario listo para pasarlo a DataFrame (no estoy seguro de que gestinar las carteras con un dataFrame)"
   ]
  },
  {
   "cell_type": "code",
   "execution_count": 14,
   "id": "f1d8d56d",
   "metadata": {},
   "outputs": [],
   "source": [
    "partes = 5 # 100/partes indica el salto minimo entre carteras\n",
    "it = combinations_with_replacement(['ST','CB','PB','GO','CA'], partes)\n",
    "lista = []\n",
    "for j in it:\n",
    "    dicionario = {'ST':0, 'CB':0, 'PB':0,'GO':0, 'CA':0}\n",
    "    for i in j:\n",
    "        dicionario[i] = int(dicionario[i]+(100/partes))\n",
    "    lista += [dicionario]"
   ]
  },
  {
   "cell_type": "code",
   "execution_count": 15,
   "id": "554f49fc",
   "metadata": {},
   "outputs": [],
   "source": [
    "# creamos el dataFrame con las carteras\n",
    "df_carteras = pd.DataFrame(lista)"
   ]
  },
  {
   "cell_type": "code",
   "execution_count": 18,
   "id": "e9a9dc6d",
   "metadata": {},
   "outputs": [],
   "source": [
    "def calcularGanacia(carteras):\n",
    "    # este metodo esta inacabado\n",
    "    # este metodo recive una cartera o lista de estas y calcula el porcentaje de ganacias\n",
    "    ganaciaIndice = []\n",
    "    listaGanacias = []\n",
    "    for i in df:\n",
    "        precioInicio = df[i].loc[len(df[i])-1,\"Price\"]\n",
    "        precioFinal = df[i].loc[0,\"Price\"]\n",
    "        ganaciaIndice += [((precioInicio-precioFinal)/(precioInicio))]\n",
    "    for cartera in carteras:\n",
    "        gancia = 0\n",
    "        for i in range(len(cartera)):\n",
    "            gancia += cartera[i]*ganaciaIndice[i]\n",
    "        listaGanacias = [gancia]\n",
    "    return ganacia"
   ]
  },
  {
   "cell_type": "code",
   "execution_count": 20,
   "id": "dc8eb246",
   "metadata": {},
   "outputs": [],
   "source": [
    "calcularGanacia(df_carteras.loc[1,:])"
   ]
  }
 ],
 "metadata": {
  "kernelspec": {
   "display_name": "Python 3",
   "language": "python",
   "name": "python3"
  },
  "language_info": {
   "codemirror_mode": {
    "name": "ipython",
    "version": 3
   },
   "file_extension": ".py",
   "mimetype": "text/x-python",
   "name": "python",
   "nbconvert_exporter": "python",
   "pygments_lexer": "ipython3",
   "version": "3.8.8"
  }
 },
 "nbformat": 4,
 "nbformat_minor": 5
}
